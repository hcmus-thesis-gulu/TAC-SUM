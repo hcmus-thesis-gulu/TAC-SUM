{
  "nbformat": 4,
  "nbformat_minor": 0,
  "metadata": {
    "colab": {
      "provenance": []
    },
    "kernelspec": {
      "name": "python3",
      "display_name": "Python 3"
    },
    "language_info": {
      "name": "python"
    }
  },
  "cells": [
    {
      "cell_type": "code",
      "execution_count": 1,
      "metadata": {
        "id": "rNuY0Uwo9u3X",
        "colab": {
          "base_uri": "https://localhost:8080/"
        },
        "outputId": "d7b6b8e3-d8df-4aab-dd6e-2bea82feb4bd"
      },
      "outputs": [
        {
          "output_type": "stream",
          "name": "stdout",
          "text": [
            "/content\n",
            "Cloning into 'context'...\n",
            "remote: Enumerating objects: 461, done.\u001b[K\n",
            "remote: Counting objects: 100% (27/27), done.\u001b[K\n",
            "remote: Compressing objects: 100% (18/18), done.\u001b[K\n",
            "remote: Total 461 (delta 14), reused 19 (delta 8), pack-reused 434\u001b[K\n",
            "Receiving objects: 100% (461/461), 21.62 MiB | 16.98 MiB/s, done.\n",
            "Resolving deltas: 100% (305/305), done.\n",
            "/content/context\n",
            "total 228\n",
            "  4 drwxr-xr-x 6 root root   4096 Jun 13 15:42 \u001b[0m\u001b[01;34m.\u001b[0m/\n",
            "  4 drwxr-xr-x 1 root root   4096 Jun 13 15:42 \u001b[01;34m..\u001b[0m/\n",
            "176 -rw-r--r-- 1 root root 178717 Jun 13 15:42 Colab_Clustering.ipynb\n",
            "  4 drwxr-xr-x 2 root root   4096 Jun 13 15:42 \u001b[01;34mdata\u001b[0m/\n",
            "  4 drwxr-xr-x 8 root root   4096 Jun 13 15:42 \u001b[01;34m.git\u001b[0m/\n",
            "  4 -rw-r--r-- 1 root root   3199 Jun 13 15:42 .gitignore\n",
            "  4 -rw-r--r-- 1 root root    517 Jun 13 15:42 infer.sh\n",
            "  4 -rw-r--r-- 1 root root   1074 Jun 13 15:42 LICENSE\n",
            "  4 drwxr-xr-x 2 root root   4096 Jun 13 15:42 \u001b[01;34mmodel\u001b[0m/\n",
            "  4 -rw-r--r-- 1 root root    729 Jun 13 15:42 preprocess.sh\n",
            "  4 -rw-r--r-- 1 root root     17 Jun 13 15:42 README.md\n",
            "  4 -rw-r--r-- 1 root root   2341 Jun 13 15:42 requirements.txt\n",
            "  4 drwxr-xr-x 2 root root   4096 Jun 13 15:42 \u001b[01;34mscripts\u001b[0m/\n",
            "  4 -rw-r--r-- 1 root root    567 Jun 13 15:42 visualize.sh\n"
          ]
        }
      ],
      "source": [
        "%cd /content\n",
        "%rm -rf /content/context\n",
        "!git clone https://github.com/hcmus-thesis-gulu/dino-clustering.git context\n",
        "%cd /content/context\n",
        "%ls -sla"
      ]
    },
    {
      "cell_type": "code",
      "source": [
        "%cd /content\n",
        "%rm -rf eval\n",
        "!git clone https://github.com/hcmus-thesis-gulu/human-centric-evaluation.git eval\n",
        "%cd /content/eval\n",
        "%ls -sla"
      ],
      "metadata": {
        "colab": {
          "base_uri": "https://localhost:8080/"
        },
        "id": "bBZXe3AEa91r",
        "outputId": "ca97a826-c791-45f7-fdf9-3c4a6bf75a0e"
      },
      "execution_count": 2,
      "outputs": [
        {
          "output_type": "stream",
          "name": "stdout",
          "text": [
            "/content\n",
            "Cloning into 'eval'...\n",
            "remote: Enumerating objects: 264, done.\u001b[K\n",
            "remote: Counting objects: 100% (143/143), done.\u001b[K\n",
            "remote: Compressing objects: 100% (93/93), done.\u001b[K\n",
            "remote: Total 264 (delta 96), reused 96 (delta 50), pack-reused 121\u001b[K\n",
            "Receiving objects: 100% (264/264), 42.87 MiB | 1.93 MiB/s, done.\n",
            "Resolving deltas: 100% (156/156), done.\n",
            "/content/eval\n",
            "total 36\n",
            "4 drwxr-xr-x 6 root root 4096 Jun 13 15:42 \u001b[0m\u001b[01;34m.\u001b[0m/\n",
            "4 drwxr-xr-x 1 root root 4096 Jun 13 15:42 \u001b[01;34m..\u001b[0m/\n",
            "4 drwxr-xr-x 4 root root 4096 Jun 13 15:42 \u001b[01;34mclassic\u001b[0m/\n",
            "4 drwxr-xr-x 8 root root 4096 Jun 13 15:42 \u001b[01;34m.git\u001b[0m/\n",
            "4 -rw-r--r-- 1 root root 3078 Jun 13 15:42 .gitignore\n",
            "4 drwxr-xr-x 2 root root 4096 Jun 13 15:42 \u001b[01;34mhuman-centric\u001b[0m/\n",
            "4 drwxr-xr-x 2 root root 4096 Jun 13 15:42 \u001b[01;34mpreprocess\u001b[0m/\n",
            "4 -rw-r--r-- 1 root root   26 Jun 13 15:42 README.md\n",
            "4 -rw-r--r-- 1 root root  759 Jun 13 15:42 requirements.txt\n"
          ]
        }
      ]
    },
    {
      "cell_type": "code",
      "source": [
        "%cd /content/context\n",
        "%pip install -r requirements.txt"
      ],
      "metadata": {
        "colab": {
          "base_uri": "https://localhost:8080/",
          "height": 1000
        },
        "id": "r0L25Fkma_L9",
        "outputId": "b25b206e-4817-4c68-9355-4ef28ed7abf4"
      },
      "execution_count": 3,
      "outputs": [
        {
          "output_type": "stream",
          "name": "stdout",
          "text": [
            "/content/context\n",
            "Looking in indexes: https://pypi.org/simple, https://us-python.pkg.dev/colab-wheels/public/simple/\n",
            "Collecting certifi==2023.5.7 (from -r requirements.txt (line 1))\n",
            "  Downloading certifi-2023.5.7-py3-none-any.whl (156 kB)\n",
            "\u001b[2K     \u001b[90m━━━━━━━━━━━━━━━━━━━━━━━━━━━━━━━━━━━━━━━\u001b[0m \u001b[32m157.0/157.0 kB\u001b[0m \u001b[31m8.1 MB/s\u001b[0m eta \u001b[36m0:00:00\u001b[0m\n",
            "\u001b[?25hCollecting charset-normalizer==3.1.0 (from -r requirements.txt (line 2))\n",
            "  Downloading charset_normalizer-3.1.0-cp310-cp310-manylinux_2_17_x86_64.manylinux2014_x86_64.whl (199 kB)\n",
            "\u001b[2K     \u001b[90m━━━━━━━━━━━━━━━━━━━━━━━━━━━━━━━━━━━━━━\u001b[0m \u001b[32m199.3/199.3 kB\u001b[0m \u001b[31m21.5 MB/s\u001b[0m eta \u001b[36m0:00:00\u001b[0m\n",
            "\u001b[?25hCollecting ffmpeg==1.4 (from -r requirements.txt (line 3))\n",
            "  Downloading ffmpeg-1.4.tar.gz (5.1 kB)\n",
            "  Preparing metadata (setup.py) ... \u001b[?25l\u001b[?25hdone\n",
            "Requirement already satisfied: filelock==3.12.0 in /usr/local/lib/python3.10/dist-packages (from -r requirements.txt (line 4)) (3.12.0)\n",
            "Collecting fsspec==2023.5.0 (from -r requirements.txt (line 5))\n",
            "  Downloading fsspec-2023.5.0-py3-none-any.whl (160 kB)\n",
            "\u001b[2K     \u001b[90m━━━━━━━━━━━━━━━━━━━━━━━━━━━━━━━━━━━━━━\u001b[0m \u001b[32m160.1/160.1 kB\u001b[0m \u001b[31m13.9 MB/s\u001b[0m eta \u001b[36m0:00:00\u001b[0m\n",
            "\u001b[?25hCollecting huggingface-hub==0.14.1 (from -r requirements.txt (line 6))\n",
            "  Downloading huggingface_hub-0.14.1-py3-none-any.whl (224 kB)\n",
            "\u001b[2K     \u001b[90m━━━━━━━━━━━━━━━━━━━━━━━━━━━━━━━━━━━━━━\u001b[0m \u001b[32m224.5/224.5 kB\u001b[0m \u001b[31m24.1 MB/s\u001b[0m eta \u001b[36m0:00:00\u001b[0m\n",
            "\u001b[?25hRequirement already satisfied: idna==3.4 in /usr/local/lib/python3.10/dist-packages (from -r requirements.txt (line 7)) (3.4)\n",
            "Requirement already satisfied: Jinja2==3.1.2 in /usr/local/lib/python3.10/dist-packages (from -r requirements.txt (line 8)) (3.1.2)\n",
            "Requirement already satisfied: joblib==1.2.0 in /usr/local/lib/python3.10/dist-packages (from -r requirements.txt (line 9)) (1.2.0)\n",
            "Requirement already satisfied: MarkupSafe==2.1.2 in /usr/local/lib/python3.10/dist-packages (from -r requirements.txt (line 10)) (2.1.2)\n",
            "Requirement already satisfied: mpmath==1.3.0 in /usr/local/lib/python3.10/dist-packages (from -r requirements.txt (line 11)) (1.3.0)\n",
            "Requirement already satisfied: networkx==3.1 in /usr/local/lib/python3.10/dist-packages (from -r requirements.txt (line 12)) (3.1)\n",
            "Collecting numpy==1.24.3 (from -r requirements.txt (line 13))\n",
            "  Downloading numpy-1.24.3-cp310-cp310-manylinux_2_17_x86_64.manylinux2014_x86_64.whl (17.3 MB)\n",
            "\u001b[2K     \u001b[90m━━━━━━━━━━━━━━━━━━━━━━━━━━━━━━━━━━━━━━━━\u001b[0m \u001b[32m17.3/17.3 MB\u001b[0m \u001b[31m39.5 MB/s\u001b[0m eta \u001b[36m0:00:00\u001b[0m\n",
            "\u001b[?25hRequirement already satisfied: opencv-python==4.7.0.72 in /usr/local/lib/python3.10/dist-packages (from -r requirements.txt (line 14)) (4.7.0.72)\n",
            "Requirement already satisfied: packaging==23.1 in /usr/local/lib/python3.10/dist-packages (from -r requirements.txt (line 15)) (23.1)\n",
            "Collecting Pillow==9.5.0 (from -r requirements.txt (line 16))\n",
            "  Downloading Pillow-9.5.0-cp310-cp310-manylinux_2_28_x86_64.whl (3.4 MB)\n",
            "\u001b[2K     \u001b[90m━━━━━━━━━━━━━━━━━━━━━━━━━━━━━━━━━━━━━━━━\u001b[0m \u001b[32m3.4/3.4 MB\u001b[0m \u001b[31m71.5 MB/s\u001b[0m eta \u001b[36m0:00:00\u001b[0m\n",
            "\u001b[?25hRequirement already satisfied: PyYAML==6.0 in /usr/local/lib/python3.10/dist-packages (from -r requirements.txt (line 17)) (6.0)\n",
            "Collecting regex==2023.5.5 (from -r requirements.txt (line 18))\n",
            "  Downloading regex-2023.5.5-cp310-cp310-manylinux_2_17_x86_64.manylinux2014_x86_64.whl (769 kB)\n",
            "\u001b[2K     \u001b[90m━━━━━━━━━━━━━━━━━━━━━━━━━━━━━━━━━━━━━━\u001b[0m \u001b[32m769.7/769.7 kB\u001b[0m \u001b[31m53.6 MB/s\u001b[0m eta \u001b[36m0:00:00\u001b[0m\n",
            "\u001b[?25hCollecting requests==2.30.0 (from -r requirements.txt (line 19))\n",
            "  Downloading requests-2.30.0-py3-none-any.whl (62 kB)\n",
            "\u001b[2K     \u001b[90m━━━━━━━━━━━━━━━━━━━━━━━━━━━━━━━━━━━━━━━━\u001b[0m \u001b[32m62.5/62.5 kB\u001b[0m \u001b[31m6.6 MB/s\u001b[0m eta \u001b[36m0:00:00\u001b[0m\n",
            "\u001b[?25hRequirement already satisfied: scikit-learn==1.2.2 in /usr/local/lib/python3.10/dist-packages (from -r requirements.txt (line 20)) (1.2.2)\n",
            "Requirement already satisfied: scipy==1.10.1 in /usr/local/lib/python3.10/dist-packages (from -r requirements.txt (line 21)) (1.10.1)\n",
            "Collecting sympy==1.12 (from -r requirements.txt (line 22))\n",
            "  Downloading sympy-1.12-py3-none-any.whl (5.7 MB)\n",
            "\u001b[2K     \u001b[90m━━━━━━━━━━━━━━━━━━━━━━━━━━━━━━━━━━━━━━━━\u001b[0m \u001b[32m5.7/5.7 MB\u001b[0m \u001b[31m39.0 MB/s\u001b[0m eta \u001b[36m0:00:00\u001b[0m\n",
            "\u001b[?25hRequirement already satisfied: threadpoolctl==3.1.0 in /usr/local/lib/python3.10/dist-packages (from -r requirements.txt (line 23)) (3.1.0)\n",
            "Collecting tokenizers==0.13.3 (from -r requirements.txt (line 24))\n",
            "  Downloading tokenizers-0.13.3-cp310-cp310-manylinux_2_17_x86_64.manylinux2014_x86_64.whl (7.8 MB)\n",
            "\u001b[2K     \u001b[90m━━━━━━━━━━━━━━━━━━━━━━━━━━━━━━━━━━━━━━━━\u001b[0m \u001b[32m7.8/7.8 MB\u001b[0m \u001b[31m91.1 MB/s\u001b[0m eta \u001b[36m0:00:00\u001b[0m\n",
            "\u001b[?25hRequirement already satisfied: torch==2.0.1 in /usr/local/lib/python3.10/dist-packages (from -r requirements.txt (line 25)) (2.0.1+cu118)\n",
            "Requirement already satisfied: torchvision==0.15.2 in /usr/local/lib/python3.10/dist-packages (from -r requirements.txt (line 26)) (0.15.2+cu118)\n",
            "Requirement already satisfied: tqdm==4.65.0 in /usr/local/lib/python3.10/dist-packages (from -r requirements.txt (line 27)) (4.65.0)\n",
            "Collecting transformers==4.29.1 (from -r requirements.txt (line 28))\n",
            "  Downloading transformers-4.29.1-py3-none-any.whl (7.1 MB)\n",
            "\u001b[2K     \u001b[90m━━━━━━━━━━━━━━━━━━━━━━━━━━━━━━━━━━━━━━━━\u001b[0m \u001b[32m7.1/7.1 MB\u001b[0m \u001b[31m96.1 MB/s\u001b[0m eta \u001b[36m0:00:00\u001b[0m\n",
            "\u001b[?25hRequirement already satisfied: typing_extensions==4.5.0 in /usr/local/lib/python3.10/dist-packages (from -r requirements.txt (line 29)) (4.5.0)\n",
            "Collecting urllib3==2.0.2 (from -r requirements.txt (line 30))\n",
            "  Downloading urllib3-2.0.2-py3-none-any.whl (123 kB)\n",
            "\u001b[2K     \u001b[90m━━━━━━━━━━━━━━━━━━━━━━━━━━━━━━━━━━━━━━\u001b[0m \u001b[32m123.2/123.2 kB\u001b[0m \u001b[31m13.5 MB/s\u001b[0m eta \u001b[36m0:00:00\u001b[0m\n",
            "\u001b[?25hRequirement already satisfied: opencv-python-headless==4.7.0.72 in /usr/local/lib/python3.10/dist-packages (from -r requirements.txt (line 45)) (4.7.0.72)\n",
            "Collecting pydub==0.25.1 (from -r requirements.txt (line 48))\n",
            "  Downloading pydub-0.25.1-py2.py3-none-any.whl (32 kB)\n",
            "Collecting sk-video==1.1.10 (from -r requirements.txt (line 86))\n",
            "  Downloading sk_video-1.1.10-py2.py3-none-any.whl (2.3 MB)\n",
            "\u001b[2K     \u001b[90m━━━━━━━━━━━━━━━━━━━━━━━━━━━━━━━━━━━━━━━━\u001b[0m \u001b[32m2.3/2.3 MB\u001b[0m \u001b[31m79.6 MB/s\u001b[0m eta \u001b[36m0:00:00\u001b[0m\n",
            "\u001b[?25hRequirement already satisfied: contourpy==1.0.7 in /usr/local/lib/python3.10/dist-packages (from -r requirements.txt (line 98)) (1.0.7)\n",
            "Requirement already satisfied: cycler==0.11.0 in /usr/local/lib/python3.10/dist-packages (from -r requirements.txt (line 99)) (0.11.0)\n",
            "Collecting fonttools==4.39.4 (from -r requirements.txt (line 102))\n",
            "  Downloading fonttools-4.39.4-py3-none-any.whl (1.0 MB)\n",
            "\u001b[2K     \u001b[90m━━━━━━━━━━━━━━━━━━━━━━━━━━━━━━━━━━━━━━━━\u001b[0m \u001b[32m1.0/1.0 MB\u001b[0m \u001b[31m63.7 MB/s\u001b[0m eta \u001b[36m0:00:00\u001b[0m\n",
            "\u001b[?25hRequirement already satisfied: h5py==3.8.0 in /usr/local/lib/python3.10/dist-packages (from -r requirements.txt (line 104)) (3.8.0)\n",
            "Requirement already satisfied: kiwisolver==1.4.4 in /usr/local/lib/python3.10/dist-packages (from -r requirements.txt (line 109)) (1.4.4)\n",
            "Requirement already satisfied: matplotlib==3.7.1 in /usr/local/lib/python3.10/dist-packages (from -r requirements.txt (line 111)) (3.7.1)\n",
            "Requirement already satisfied: pyparsing==3.0.9 in /usr/local/lib/python3.10/dist-packages (from -r requirements.txt (line 120)) (3.0.9)\n",
            "Requirement already satisfied: python-dateutil==2.8.2 in /usr/local/lib/python3.10/dist-packages (from -r requirements.txt (line 121)) (2.8.2)\n",
            "Requirement already satisfied: six==1.16.0 in /usr/local/lib/python3.10/dist-packages (from -r requirements.txt (line 127)) (1.16.0)\n",
            "Requirement already satisfied: triton==2.0.0 in /usr/local/lib/python3.10/dist-packages (from torch==2.0.1->-r requirements.txt (line 25)) (2.0.0)\n",
            "Requirement already satisfied: cmake in /usr/local/lib/python3.10/dist-packages (from triton==2.0.0->torch==2.0.1->-r requirements.txt (line 25)) (3.25.2)\n",
            "Requirement already satisfied: lit in /usr/local/lib/python3.10/dist-packages (from triton==2.0.0->torch==2.0.1->-r requirements.txt (line 25)) (16.0.5)\n",
            "Building wheels for collected packages: ffmpeg\n",
            "  Building wheel for ffmpeg (setup.py) ... \u001b[?25l\u001b[?25hdone\n",
            "  Created wheel for ffmpeg: filename=ffmpeg-1.4-py3-none-any.whl size=6083 sha256=0709695c710c0ca21f2ce04a5abc7c80ea59ef92ac2bceb36da332a27ef72230\n",
            "  Stored in directory: /root/.cache/pip/wheels/8e/7a/69/cd6aeb83b126a7f04cbe7c9d929028dc52a6e7d525ff56003a\n",
            "Successfully built ffmpeg\n",
            "Installing collected packages: tokenizers, pydub, ffmpeg, urllib3, sympy, regex, Pillow, numpy, fsspec, fonttools, charset-normalizer, certifi, requests, sk-video, huggingface-hub, transformers\n",
            "  Attempting uninstall: urllib3\n",
            "    Found existing installation: urllib3 1.26.15\n",
            "    Uninstalling urllib3-1.26.15:\n",
            "      Successfully uninstalled urllib3-1.26.15\n",
            "  Attempting uninstall: sympy\n",
            "    Found existing installation: sympy 1.11.1\n",
            "    Uninstalling sympy-1.11.1:\n",
            "      Successfully uninstalled sympy-1.11.1\n",
            "  Attempting uninstall: regex\n",
            "    Found existing installation: regex 2022.10.31\n",
            "    Uninstalling regex-2022.10.31:\n",
            "      Successfully uninstalled regex-2022.10.31\n",
            "  Attempting uninstall: Pillow\n",
            "    Found existing installation: Pillow 8.4.0\n",
            "    Uninstalling Pillow-8.4.0:\n",
            "      Successfully uninstalled Pillow-8.4.0\n",
            "  Attempting uninstall: numpy\n",
            "    Found existing installation: numpy 1.22.4\n",
            "    Uninstalling numpy-1.22.4:\n",
            "      Successfully uninstalled numpy-1.22.4\n",
            "  Attempting uninstall: fsspec\n",
            "    Found existing installation: fsspec 2023.4.0\n",
            "    Uninstalling fsspec-2023.4.0:\n",
            "      Successfully uninstalled fsspec-2023.4.0\n",
            "  Attempting uninstall: fonttools\n",
            "    Found existing installation: fonttools 4.39.3\n",
            "    Uninstalling fonttools-4.39.3:\n",
            "      Successfully uninstalled fonttools-4.39.3\n",
            "  Attempting uninstall: charset-normalizer\n",
            "    Found existing installation: charset-normalizer 2.0.12\n",
            "    Uninstalling charset-normalizer-2.0.12:\n",
            "      Successfully uninstalled charset-normalizer-2.0.12\n",
            "  Attempting uninstall: certifi\n",
            "    Found existing installation: certifi 2022.12.7\n",
            "    Uninstalling certifi-2022.12.7:\n",
            "      Successfully uninstalled certifi-2022.12.7\n",
            "  Attempting uninstall: requests\n",
            "    Found existing installation: requests 2.27.1\n",
            "    Uninstalling requests-2.27.1:\n",
            "      Successfully uninstalled requests-2.27.1\n",
            "\u001b[31mERROR: pip's dependency resolver does not currently take into account all the packages that are installed. This behaviour is the source of the following dependency conflicts.\n",
            "google-colab 1.0.0 requires requests==2.27.1, but you have requests 2.30.0 which is incompatible.\n",
            "numba 0.56.4 requires numpy<1.24,>=1.18, but you have numpy 1.24.3 which is incompatible.\n",
            "tensorflow 2.12.0 requires numpy<1.24,>=1.22, but you have numpy 1.24.3 which is incompatible.\u001b[0m\u001b[31m\n",
            "\u001b[0mSuccessfully installed Pillow-9.5.0 certifi-2023.5.7 charset-normalizer-3.1.0 ffmpeg-1.4 fonttools-4.39.4 fsspec-2023.5.0 huggingface-hub-0.14.1 numpy-1.24.3 pydub-0.25.1 regex-2023.5.5 requests-2.30.0 sk-video-1.1.10 sympy-1.12 tokenizers-0.13.3 transformers-4.29.1 urllib3-2.0.2\n"
          ]
        },
        {
          "output_type": "display_data",
          "data": {
            "application/vnd.colab-display-data+json": {
              "pip_warning": {
                "packages": [
                  "PIL",
                  "certifi",
                  "numpy"
                ]
              }
            }
          },
          "metadata": {}
        }
      ]
    },
    {
      "cell_type": "code",
      "source": [
        "%cd /content/eval\n",
        "%pip install -r requirements.txt"
      ],
      "metadata": {
        "colab": {
          "base_uri": "https://localhost:8080/",
          "height": 1000
        },
        "id": "lImJeSzibAs6",
        "outputId": "e2539567-5b6d-4124-edec-4f4a552ee738"
      },
      "execution_count": 4,
      "outputs": [
        {
          "output_type": "stream",
          "name": "stdout",
          "text": [
            "/content/eval\n",
            "Looking in indexes: https://pypi.org/simple, https://us-python.pkg.dev/colab-wheels/public/simple/\n",
            "Collecting altair==5.0.1 (from -r requirements.txt (line 1))\n",
            "  Downloading altair-5.0.1-py3-none-any.whl (471 kB)\n",
            "\u001b[2K     \u001b[90m━━━━━━━━━━━━━━━━━━━━━━━━━━━━━━━━━━━━━━\u001b[0m \u001b[32m471.5/471.5 kB\u001b[0m \u001b[31m16.8 MB/s\u001b[0m eta \u001b[36m0:00:00\u001b[0m\n",
            "\u001b[?25hRequirement already satisfied: attrs==23.1.0 in /usr/local/lib/python3.10/dist-packages (from -r requirements.txt (line 2)) (23.1.0)\n",
            "Collecting blinker==1.6.2 (from -r requirements.txt (line 3))\n",
            "  Downloading blinker-1.6.2-py3-none-any.whl (13 kB)\n",
            "Collecting cachetools==5.3.1 (from -r requirements.txt (line 4))\n",
            "  Downloading cachetools-5.3.1-py3-none-any.whl (9.3 kB)\n",
            "Requirement already satisfied: certifi==2023.5.7 in /usr/local/lib/python3.10/dist-packages (from -r requirements.txt (line 5)) (2023.5.7)\n",
            "Requirement already satisfied: charset-normalizer==3.1.0 in /usr/local/lib/python3.10/dist-packages (from -r requirements.txt (line 6)) (3.1.0)\n",
            "Requirement already satisfied: click==8.1.3 in /usr/local/lib/python3.10/dist-packages (from -r requirements.txt (line 7)) (8.1.3)\n",
            "Collecting decorator==5.1.1 (from -r requirements.txt (line 8))\n",
            "  Downloading decorator-5.1.1-py3-none-any.whl (9.1 kB)\n",
            "Collecting gitdb==4.0.10 (from -r requirements.txt (line 9))\n",
            "  Downloading gitdb-4.0.10-py3-none-any.whl (62 kB)\n",
            "\u001b[2K     \u001b[90m━━━━━━━━━━━━━━━━━━━━━━━━━━━━━━━━━━━━━━━━\u001b[0m \u001b[32m62.7/62.7 kB\u001b[0m \u001b[31m6.1 MB/s\u001b[0m eta \u001b[36m0:00:00\u001b[0m\n",
            "\u001b[?25hCollecting GitPython==3.1.31 (from -r requirements.txt (line 10))\n",
            "  Downloading GitPython-3.1.31-py3-none-any.whl (184 kB)\n",
            "\u001b[2K     \u001b[90m━━━━━━━━━━━━━━━━━━━━━━━━━━━━━━━━━━━━━━\u001b[0m \u001b[32m184.3/184.3 kB\u001b[0m \u001b[31m17.8 MB/s\u001b[0m eta \u001b[36m0:00:00\u001b[0m\n",
            "\u001b[?25hRequirement already satisfied: idna==3.4 in /usr/local/lib/python3.10/dist-packages (from -r requirements.txt (line 11)) (3.4)\n",
            "Collecting importlib-metadata==6.6.0 (from -r requirements.txt (line 12))\n",
            "  Downloading importlib_metadata-6.6.0-py3-none-any.whl (22 kB)\n",
            "Requirement already satisfied: Jinja2==3.1.2 in /usr/local/lib/python3.10/dist-packages (from -r requirements.txt (line 13)) (3.1.2)\n",
            "Collecting jsonschema==4.17.3 (from -r requirements.txt (line 14))\n",
            "  Downloading jsonschema-4.17.3-py3-none-any.whl (90 kB)\n",
            "\u001b[2K     \u001b[90m━━━━━━━━━━━━━━━━━━━━━━━━━━━━━━━━━━━━━━━\u001b[0m \u001b[32m90.4/90.4 kB\u001b[0m \u001b[31m996.7 kB/s\u001b[0m eta \u001b[36m0:00:00\u001b[0m\n",
            "\u001b[?25hRequirement already satisfied: markdown-it-py==2.2.0 in /usr/local/lib/python3.10/dist-packages (from -r requirements.txt (line 15)) (2.2.0)\n",
            "Collecting MarkupSafe==2.1.3 (from -r requirements.txt (line 16))\n",
            "  Downloading MarkupSafe-2.1.3-cp310-cp310-manylinux_2_17_x86_64.manylinux2014_x86_64.whl (25 kB)\n",
            "Requirement already satisfied: mdurl==0.1.2 in /usr/local/lib/python3.10/dist-packages (from -r requirements.txt (line 17)) (0.1.2)\n",
            "Requirement already satisfied: numpy==1.24.3 in /usr/local/lib/python3.10/dist-packages (from -r requirements.txt (line 18)) (1.24.3)\n",
            "Requirement already satisfied: packaging==23.1 in /usr/local/lib/python3.10/dist-packages (from -r requirements.txt (line 19)) (23.1)\n",
            "Collecting pandas==2.0.2 (from -r requirements.txt (line 20))\n",
            "  Downloading pandas-2.0.2-cp310-cp310-manylinux_2_17_x86_64.manylinux2014_x86_64.whl (12.3 MB)\n",
            "\u001b[2K     \u001b[90m━━━━━━━━━━━━━━━━━━━━━━━━━━━━━━━━━━━━━━━━\u001b[0m \u001b[32m12.3/12.3 MB\u001b[0m \u001b[31m60.9 MB/s\u001b[0m eta \u001b[36m0:00:00\u001b[0m\n",
            "\u001b[?25hRequirement already satisfied: Pillow==9.5.0 in /usr/local/lib/python3.10/dist-packages (from -r requirements.txt (line 21)) (9.5.0)\n",
            "Collecting protobuf==4.23.2 (from -r requirements.txt (line 22))\n",
            "  Downloading protobuf-4.23.2-cp37-abi3-manylinux2014_x86_64.whl (304 kB)\n",
            "\u001b[2K     \u001b[90m━━━━━━━━━━━━━━━━━━━━━━━━━━━━━━━━━━━━━━\u001b[0m \u001b[32m304.5/304.5 kB\u001b[0m \u001b[31m14.5 MB/s\u001b[0m eta \u001b[36m0:00:00\u001b[0m\n",
            "\u001b[?25hCollecting pyarrow==12.0.0 (from -r requirements.txt (line 23))\n",
            "  Downloading pyarrow-12.0.0-cp310-cp310-manylinux_2_17_x86_64.manylinux2014_x86_64.whl (38.9 MB)\n",
            "\u001b[2K     \u001b[90m━━━━━━━━━━━━━━━━━━━━━━━━━━━━━━━━━━━━━━━━\u001b[0m \u001b[32m38.9/38.9 MB\u001b[0m \u001b[31m9.1 MB/s\u001b[0m eta \u001b[36m0:00:00\u001b[0m\n",
            "\u001b[?25hCollecting pydeck==0.8.1b0 (from -r requirements.txt (line 24))\n",
            "  Downloading pydeck-0.8.1b0-py2.py3-none-any.whl (4.8 MB)\n",
            "\u001b[2K     \u001b[90m━━━━━━━━━━━━━━━━━━━━━━━━━━━━━━━━━━━━━━━━\u001b[0m \u001b[32m4.8/4.8 MB\u001b[0m \u001b[31m90.3 MB/s\u001b[0m eta \u001b[36m0:00:00\u001b[0m\n",
            "\u001b[?25hCollecting Pygments==2.15.1 (from -r requirements.txt (line 25))\n",
            "  Downloading Pygments-2.15.1-py3-none-any.whl (1.1 MB)\n",
            "\u001b[2K     \u001b[90m━━━━━━━━━━━━━━━━━━━━━━━━━━━━━━━━━━━━━━━━\u001b[0m \u001b[32m1.1/1.1 MB\u001b[0m \u001b[31m63.5 MB/s\u001b[0m eta \u001b[36m0:00:00\u001b[0m\n",
            "\u001b[?25hCollecting Pympler==1.0.1 (from -r requirements.txt (line 26))\n",
            "  Downloading Pympler-1.0.1-py3-none-any.whl (164 kB)\n",
            "\u001b[2K     \u001b[90m━━━━━━━━━━━━━━━━━━━━━━━━━━━━━━━━━━━━━━\u001b[0m \u001b[32m164.8/164.8 kB\u001b[0m \u001b[31m16.0 MB/s\u001b[0m eta \u001b[36m0:00:00\u001b[0m\n",
            "\u001b[?25hRequirement already satisfied: pyrsistent==0.19.3 in /usr/local/lib/python3.10/dist-packages (from -r requirements.txt (line 27)) (0.19.3)\n",
            "Requirement already satisfied: python-dateutil==2.8.2 in /usr/local/lib/python3.10/dist-packages (from -r requirements.txt (line 28)) (2.8.2)\n",
            "Collecting pytz==2023.3 (from -r requirements.txt (line 29))\n",
            "  Downloading pytz-2023.3-py2.py3-none-any.whl (502 kB)\n",
            "\u001b[2K     \u001b[90m━━━━━━━━━━━━━━━━━━━━━━━━━━━━━━━━━━━━━━\u001b[0m \u001b[32m502.3/502.3 kB\u001b[0m \u001b[31m42.4 MB/s\u001b[0m eta \u001b[36m0:00:00\u001b[0m\n",
            "\u001b[?25hRequirement already satisfied: pytz-deprecation-shim==0.1.0.post0 in /usr/local/lib/python3.10/dist-packages (from -r requirements.txt (line 30)) (0.1.0.post0)\n",
            "Collecting requests==2.31.0 (from -r requirements.txt (line 31))\n",
            "  Downloading requests-2.31.0-py3-none-any.whl (62 kB)\n",
            "\u001b[2K     \u001b[90m━━━━━━━━━━━━━━━━━━━━━━━━━━━━━━━━━━━━━━━━\u001b[0m \u001b[32m62.6/62.6 kB\u001b[0m \u001b[31m6.6 MB/s\u001b[0m eta \u001b[36m0:00:00\u001b[0m\n",
            "\u001b[?25hCollecting rich==13.4.1 (from -r requirements.txt (line 32))\n",
            "  Downloading rich-13.4.1-py3-none-any.whl (239 kB)\n",
            "\u001b[2K     \u001b[90m━━━━━━━━━━━━━━━━━━━━━━━━━━━━━━━━━━━━━━\u001b[0m \u001b[32m239.4/239.4 kB\u001b[0m \u001b[31m22.5 MB/s\u001b[0m eta \u001b[36m0:00:00\u001b[0m\n",
            "\u001b[?25hRequirement already satisfied: six==1.16.0 in /usr/local/lib/python3.10/dist-packages (from -r requirements.txt (line 33)) (1.16.0)\n",
            "Collecting smmap==5.0.0 (from -r requirements.txt (line 34))\n",
            "  Downloading smmap-5.0.0-py3-none-any.whl (24 kB)\n",
            "Collecting streamlit==1.23.1 (from -r requirements.txt (line 35))\n",
            "  Downloading streamlit-1.23.1-py2.py3-none-any.whl (8.9 MB)\n",
            "\u001b[2K     \u001b[90m━━━━━━━━━━━━━━━━━━━━━━━━━━━━━━━━━━━━━━━━\u001b[0m \u001b[32m8.9/8.9 MB\u001b[0m \u001b[31m92.5 MB/s\u001b[0m eta \u001b[36m0:00:00\u001b[0m\n",
            "\u001b[?25hRequirement already satisfied: tenacity==8.2.2 in /usr/local/lib/python3.10/dist-packages (from -r requirements.txt (line 36)) (8.2.2)\n",
            "Requirement already satisfied: toml==0.10.2 in /usr/local/lib/python3.10/dist-packages (from -r requirements.txt (line 37)) (0.10.2)\n",
            "Requirement already satisfied: toolz==0.12.0 in /usr/local/lib/python3.10/dist-packages (from -r requirements.txt (line 38)) (0.12.0)\n",
            "Collecting tornado==6.3.2 (from -r requirements.txt (line 39))\n",
            "  Downloading tornado-6.3.2-cp38-abi3-manylinux_2_5_x86_64.manylinux1_x86_64.manylinux_2_17_x86_64.manylinux2014_x86_64.whl (426 kB)\n",
            "\u001b[2K     \u001b[90m━━━━━━━━━━━━━━━━━━━━━━━━━━━━━━━━━━━━━━\u001b[0m \u001b[32m426.9/426.9 kB\u001b[0m \u001b[31m33.3 MB/s\u001b[0m eta \u001b[36m0:00:00\u001b[0m\n",
            "\u001b[?25hCollecting typing_extensions==4.6.3 (from -r requirements.txt (line 40))\n",
            "  Downloading typing_extensions-4.6.3-py3-none-any.whl (31 kB)\n",
            "Requirement already satisfied: tzdata==2023.3 in /usr/local/lib/python3.10/dist-packages (from -r requirements.txt (line 41)) (2023.3)\n",
            "Requirement already satisfied: tzlocal==4.3 in /usr/local/lib/python3.10/dist-packages (from -r requirements.txt (line 42)) (4.3)\n",
            "Requirement already satisfied: urllib3==2.0.2 in /usr/local/lib/python3.10/dist-packages (from -r requirements.txt (line 43)) (2.0.2)\n",
            "Collecting validators==0.20.0 (from -r requirements.txt (line 44))\n",
            "  Downloading validators-0.20.0.tar.gz (30 kB)\n",
            "  Preparing metadata (setup.py) ... \u001b[?25l\u001b[?25hdone\n",
            "Requirement already satisfied: zipp==3.15.0 in /usr/local/lib/python3.10/dist-packages (from -r requirements.txt (line 45)) (3.15.0)\n",
            "Requirement already satisfied: scipy in /usr/local/lib/python3.10/dist-packages (from -r requirements.txt (line 46)) (1.10.1)\n",
            "Requirement already satisfied: h5py in /usr/local/lib/python3.10/dist-packages (from -r requirements.txt (line 47)) (3.8.0)\n",
            "Collecting watchdog (from streamlit==1.23.1->-r requirements.txt (line 35))\n",
            "  Downloading watchdog-3.0.0-py3-none-manylinux2014_x86_64.whl (82 kB)\n",
            "\u001b[2K     \u001b[90m━━━━━━━━━━━━━━━━━━━━━━━━━━━━━━━━━━━━━━━━\u001b[0m \u001b[32m82.1/82.1 kB\u001b[0m \u001b[31m8.4 MB/s\u001b[0m eta \u001b[36m0:00:00\u001b[0m\n",
            "\u001b[?25hBuilding wheels for collected packages: validators\n",
            "  Building wheel for validators (setup.py) ... \u001b[?25l\u001b[?25hdone\n",
            "  Created wheel for validators: filename=validators-0.20.0-py3-none-any.whl size=19579 sha256=9b4acf43c600d93db395bfb4bb12031e27028c3293b6218faa4edf72535c1243\n",
            "  Stored in directory: /root/.cache/pip/wheels/f2/ed/dd/d3a556ad245ef9dc570c6bcd2f22886d17b0b408dd3bbb9ac3\n",
            "Successfully built validators\n",
            "Installing collected packages: pytz, watchdog, typing_extensions, tornado, smmap, requests, Pympler, Pygments, pyarrow, protobuf, MarkupSafe, jsonschema, importlib-metadata, decorator, cachetools, blinker, validators, rich, pandas, gitdb, pydeck, GitPython, altair, streamlit\n",
            "  Attempting uninstall: pytz\n",
            "    Found existing installation: pytz 2022.7.1\n",
            "    Uninstalling pytz-2022.7.1:\n",
            "      Successfully uninstalled pytz-2022.7.1\n",
            "  Attempting uninstall: typing_extensions\n",
            "    Found existing installation: typing_extensions 4.5.0\n",
            "    Uninstalling typing_extensions-4.5.0:\n",
            "      Successfully uninstalled typing_extensions-4.5.0\n",
            "  Attempting uninstall: tornado\n",
            "    Found existing installation: tornado 6.3.1\n",
            "    Uninstalling tornado-6.3.1:\n",
            "      Successfully uninstalled tornado-6.3.1\n",
            "  Attempting uninstall: requests\n",
            "    Found existing installation: requests 2.30.0\n",
            "    Uninstalling requests-2.30.0:\n",
            "      Successfully uninstalled requests-2.30.0\n",
            "  Attempting uninstall: Pygments\n",
            "    Found existing installation: Pygments 2.14.0\n",
            "    Uninstalling Pygments-2.14.0:\n",
            "      Successfully uninstalled Pygments-2.14.0\n",
            "  Attempting uninstall: pyarrow\n",
            "    Found existing installation: pyarrow 9.0.0\n",
            "    Uninstalling pyarrow-9.0.0:\n",
            "      Successfully uninstalled pyarrow-9.0.0\n",
            "  Attempting uninstall: protobuf\n",
            "    Found existing installation: protobuf 3.20.3\n",
            "    Uninstalling protobuf-3.20.3:\n",
            "      Successfully uninstalled protobuf-3.20.3\n",
            "  Attempting uninstall: MarkupSafe\n",
            "    Found existing installation: MarkupSafe 2.1.2\n",
            "    Uninstalling MarkupSafe-2.1.2:\n",
            "      Successfully uninstalled MarkupSafe-2.1.2\n",
            "  Attempting uninstall: jsonschema\n",
            "    Found existing installation: jsonschema 4.3.3\n",
            "    Uninstalling jsonschema-4.3.3:\n",
            "      Successfully uninstalled jsonschema-4.3.3\n",
            "  Attempting uninstall: decorator\n",
            "    Found existing installation: decorator 4.4.2\n",
            "    Uninstalling decorator-4.4.2:\n",
            "      Successfully uninstalled decorator-4.4.2\n",
            "  Attempting uninstall: cachetools\n",
            "    Found existing installation: cachetools 5.3.0\n",
            "    Uninstalling cachetools-5.3.0:\n",
            "      Successfully uninstalled cachetools-5.3.0\n",
            "  Attempting uninstall: rich\n",
            "    Found existing installation: rich 13.3.4\n",
            "    Uninstalling rich-13.3.4:\n",
            "      Successfully uninstalled rich-13.3.4\n",
            "  Attempting uninstall: pandas\n",
            "    Found existing installation: pandas 1.5.3\n",
            "    Uninstalling pandas-1.5.3:\n",
            "      Successfully uninstalled pandas-1.5.3\n",
            "  Attempting uninstall: altair\n",
            "    Found existing installation: altair 4.2.2\n",
            "    Uninstalling altair-4.2.2:\n",
            "      Successfully uninstalled altair-4.2.2\n",
            "\u001b[31mERROR: pip's dependency resolver does not currently take into account all the packages that are installed. This behaviour is the source of the following dependency conflicts.\n",
            "ipython 7.34.0 requires jedi>=0.16, which is not installed.\n",
            "google-colab 1.0.0 requires pandas==1.5.3, but you have pandas 2.0.2 which is incompatible.\n",
            "google-colab 1.0.0 requires requests==2.27.1, but you have requests 2.31.0 which is incompatible.\n",
            "google-colab 1.0.0 requires tornado==6.3.1, but you have tornado 6.3.2 which is incompatible.\n",
            "moviepy 1.0.3 requires decorator<5.0,>=4.0.2, but you have decorator 5.1.1 which is incompatible.\n",
            "pandas-gbq 0.17.9 requires pyarrow<10.0dev,>=3.0.0, but you have pyarrow 12.0.0 which is incompatible.\n",
            "tensorflow 2.12.0 requires numpy<1.24,>=1.22, but you have numpy 1.24.3 which is incompatible.\u001b[0m\u001b[31m\n",
            "\u001b[0mSuccessfully installed GitPython-3.1.31 MarkupSafe-2.1.3 Pygments-2.15.1 Pympler-1.0.1 altair-5.0.1 blinker-1.6.2 cachetools-5.3.1 decorator-5.1.1 gitdb-4.0.10 importlib-metadata-6.6.0 jsonschema-4.17.3 pandas-2.0.2 protobuf-4.23.2 pyarrow-12.0.0 pydeck-0.8.1b0 pytz-2023.3 requests-2.31.0 rich-13.4.1 smmap-5.0.0 streamlit-1.23.1 tornado-6.3.2 typing_extensions-4.6.3 validators-0.20.0 watchdog-3.0.0\n"
          ]
        },
        {
          "output_type": "display_data",
          "data": {
            "application/vnd.colab-display-data+json": {
              "pip_warning": {
                "packages": [
                  "decorator",
                  "pygments",
                  "tornado"
                ]
              }
            }
          },
          "metadata": {}
        }
      ]
    },
    {
      "cell_type": "code",
      "source": [
        "%cd /content\n",
        "%rm -rf data\n",
        "%mkdir data\n",
        "%cd /content/data\n",
        "!sh /content/context/data/download_summe.sh"
      ],
      "metadata": {
        "colab": {
          "base_uri": "https://localhost:8080/"
        },
        "id": "Yji4tq8NbCZt",
        "outputId": "9103f4e1-d2fa-4e9d-bf68-2b5d1e21abc8"
      },
      "execution_count": 5,
      "outputs": [
        {
          "output_type": "stream",
          "name": "stdout",
          "text": [
            "/content\n",
            "/content/data\n",
            "--2023-06-13 15:44:06--  https://data.vision.ee.ethz.ch/cvl/SumMe/SumMe.zip\n",
            "Resolving data.vision.ee.ethz.ch (data.vision.ee.ethz.ch)... 129.132.52.178, 2001:67c:10ec:36c2::178\n",
            "Connecting to data.vision.ee.ethz.ch (data.vision.ee.ethz.ch)|129.132.52.178|:443... connected.\n",
            "HTTP request sent, awaiting response... 200 OK\n",
            "Length: 2396688224 (2.2G) [application/zip]\n",
            "Saving to: ‘SumMe.zip’\n",
            "\n",
            "SumMe.zip           100%[===================>]   2.23G  74.5MB/s    in 21s     \n",
            "\n",
            "2023-06-13 15:44:27 (107 MB/s) - ‘SumMe.zip’ saved [2396688224/2396688224]\n",
            "\n",
            "Archive:  SumMe.zip\n",
            "   creating: GT/\n",
            "  inflating: GT/Air_Force_One.mat    \n",
            "  inflating: GT/Base jumping.mat     \n",
            "  inflating: GT/Bearpark_climbing.mat  \n",
            "  inflating: GT/Bike Polo.mat        \n",
            "  inflating: GT/Bus_in_Rock_Tunnel.mat  \n",
            "  inflating: GT/Car_railcrossing.mat  \n",
            "  inflating: GT/Cockpit_Landing.mat  \n",
            "  inflating: GT/Cooking.mat          \n",
            "  inflating: GT/Eiffel Tower.mat     \n",
            "  inflating: GT/Excavators river crossing.mat  \n",
            "  inflating: GT/Fire Domino.mat      \n",
            "  inflating: GT/Jumps.mat            \n",
            "  inflating: GT/Kids_playing_in_leaves.mat  \n",
            "  inflating: GT/Notre_Dame.mat       \n",
            "  inflating: GT/Paintball.mat        \n",
            "  inflating: GT/Playing_on_water_slide.mat  \n",
            "  inflating: GT/Saving dolphines.mat  \n",
            "  inflating: GT/Scuba.mat            \n",
            "  inflating: GT/St Maarten Landing.mat  \n",
            "  inflating: GT/Statue of Liberty.mat  \n",
            "  inflating: GT/Uncut_Evening_Flight.mat  \n",
            "  inflating: GT/Valparaiso_Downhill.mat  \n",
            "  inflating: GT/car_over_camera.mat  \n",
            "  inflating: GT/paluma_jump.mat      \n",
            "  inflating: GT/playing_ball.mat     \n",
            "  inflating: README.txt              \n",
            "  inflating: demo.m                  \n",
            "   creating: matlab/\n",
            "  inflating: matlab/summe_evaluateIOU.m  \n",
            "  inflating: matlab/summe_evaluateSummary.m  \n",
            "  inflating: matlab/summe_evaluateSummary.m~  \n",
            "  inflating: matlab/summe_plotAllResults.m  \n",
            "   creating: python/\n",
            "  inflating: python/demo.py          \n",
            "  inflating: python/demo.py~         \n",
            "  inflating: python/summe.py         \n",
            "  inflating: python/summe.py~        \n",
            "   creating: videos/\n",
            "  inflating: videos/.htaccess        \n",
            "  inflating: videos/Air_Force_One.mp4  \n",
            "  inflating: videos/Air_Force_One.webm  \n",
            "  inflating: videos/Base jumping.mp4  \n",
            " extracting: videos/Base jumping.webm  \n",
            "  inflating: videos/Bearpark_climbing.mp4  \n",
            "  inflating: videos/Bearpark_climbing.webm  \n",
            "  inflating: videos/Bike Polo.mp4    \n",
            " extracting: videos/Bike Polo.webm   \n",
            "  inflating: videos/Bus_in_Rock_Tunnel.mp4  \n",
            "  inflating: videos/Bus_in_Rock_Tunnel.webm  \n",
            "  inflating: videos/Car_railcrossing.mp4  \n",
            "  inflating: videos/Car_railcrossing.webm  \n",
            "  inflating: videos/Cockpit_Landing.mp4  \n",
            "  inflating: videos/Cockpit_Landing.webm  \n",
            "  inflating: videos/Cooking.mp4      \n",
            "  inflating: videos/Cooking.webm     \n",
            "  inflating: videos/Eiffel Tower.mp4  \n",
            "  inflating: videos/Eiffel Tower.webm  \n",
            "  inflating: videos/Excavators river crossing.mp4  \n",
            "  inflating: videos/Excavators river crossing.webm  \n",
            "  inflating: videos/Fire Domino.mp4  \n",
            "  inflating: videos/Fire Domino.webm  \n",
            "  inflating: videos/Jumps.mp4        \n",
            "  inflating: videos/Jumps.webm       \n",
            "  inflating: videos/Kids_playing_in_leaves.mp4  \n",
            "  inflating: videos/Kids_playing_in_leaves.webm  \n",
            "  inflating: videos/Notre_Dame.mp4   \n",
            "  inflating: videos/Notre_Dame.webm  \n",
            "  inflating: videos/Paintball.mp4    \n",
            "  inflating: videos/Paintball.webm   \n",
            "  inflating: videos/Playing_on_water_slide.mp4  \n",
            "  inflating: videos/Playing_on_water_slide.webm  \n",
            "  inflating: videos/Saving dolphines.mp4  \n",
            "  inflating: videos/Saving dolphines.webm  \n",
            "  inflating: videos/Scuba.mp4        \n",
            " extracting: videos/Scuba.webm       \n",
            "  inflating: videos/St Maarten Landing.mp4  \n",
            " extracting: videos/St Maarten Landing.webm  \n",
            "  inflating: videos/Statue of Liberty.mp4  \n",
            " extracting: videos/Statue of Liberty.webm  \n",
            "  inflating: videos/Uncut_Evening_Flight.mp4  \n",
            "  inflating: videos/Uncut_Evening_Flight.webm  \n",
            "  inflating: videos/Valparaiso_Downhill.mp4  \n",
            "  inflating: videos/Valparaiso_Downhill.webm  \n",
            "  inflating: videos/car_over_camera.mp4  \n",
            "  inflating: videos/car_over_camera.webm  \n",
            "  inflating: videos/paluma_jump.mp4  \n",
            "  inflating: videos/paluma_jump.webm  \n",
            "  inflating: videos/playing_ball.mp4  \n",
            "  inflating: videos/playing_ball.webm  \n",
            "  inflating: videos/videos2frames.sh~  \n",
            "/content/context/data/download_summe.sh: 7: cd: can't cd to SumMe/videos\n",
            "mv: cannot move 'GT' to a subdirectory of itself, 'GT/GT'\n",
            "mv: 'README.txt' and 'README.txt' are the same file\n",
            "mv: 'demo.m' and 'demo.m' are the same file\n",
            "mv: cannot move 'matlab' to a subdirectory of itself, 'matlab/matlab'\n",
            "mv: cannot move 'python' to a subdirectory of itself, 'python/python'\n",
            "mv: cannot move 'videos' to a subdirectory of itself, 'videos/videos'\n",
            "/content/context/data/download_summe.sh: 10: cd: can't cd to ../GT\n",
            "mv: cannot move 'GT' to a subdirectory of itself, 'GT/GT'\n",
            "mv: 'README.txt' and 'README.txt' are the same file\n",
            "mv: 'demo.m' and 'demo.m' are the same file\n",
            "mv: cannot move 'matlab' to a subdirectory of itself, 'matlab/matlab'\n",
            "mv: cannot move 'python' to a subdirectory of itself, 'python/python'\n",
            "mv: cannot move 'videos' to a subdirectory of itself, 'videos/videos'\n"
          ]
        }
      ]
    },
    {
      "cell_type": "code",
      "source": [
        "%cd /content/eval\n",
        "!git fetch origin\n",
        "!git reset --hard origin/main"
      ],
      "metadata": {
        "colab": {
          "base_uri": "https://localhost:8080/"
        },
        "id": "o7_PRYE4bDvw",
        "outputId": "85b93725-e0cd-4ce3-b8ef-1e964d256855"
      },
      "execution_count": 1,
      "outputs": [
        {
          "output_type": "stream",
          "name": "stdout",
          "text": [
            "/content/eval\n",
            "HEAD is now at 3ce9b8c Optimize conversion\n"
          ]
        }
      ]
    },
    {
      "cell_type": "code",
      "source": [
        "%cd /content/eval\n",
        "%rm -rf \"/content/drive/MyDrive/HCMUS/Y4/Thesis/Codes/summe/context/dino/users\"\n",
        "%mkdir -p \"/content/drive/MyDrive/HCMUS/Y4/Thesis/Codes/summe/context/dino/users\"\n",
        "%run preprocess/user_video.py \\\n",
        "--video-folder \"/content/data/videos\" \\\n",
        "--groundtruth-folder \"/content/data/GT\" \\\n",
        "--user-folder \"/content/drive/MyDrive/HCMUS/Y4/Thesis/Codes/summe/context/dino/users\""
      ],
      "metadata": {
        "colab": {
          "base_uri": "https://localhost:8080/"
        },
        "id": "Aa8SW_l4bGLa",
        "outputId": "fa50886b-995b-44aa-b032-071543d3342d"
      },
      "execution_count": 2,
      "outputs": [
        {
          "output_type": "stream",
          "name": "stdout",
          "text": [
            "/content/eval\n",
            "Visualizing user summaries of Cockpit_Landing\n"
          ]
        },
        {
          "output_type": "stream",
          "name": "stderr",
          "text": [
            "Processing frames: 100%|██████████| 9046/9046 [05:44<00:00, 26.29it/s]\n"
          ]
        },
        {
          "output_type": "stream",
          "name": "stdout",
          "text": [
            "Visualizing user summaries of Saving dolphines\n"
          ]
        },
        {
          "output_type": "stream",
          "name": "stderr",
          "text": [
            "Processing frames: 100%|██████████| 6683/6683 [03:13<00:00, 34.55it/s] \n"
          ]
        },
        {
          "output_type": "stream",
          "name": "stdout",
          "text": [
            "Visualizing user summaries of Excavators river crossing\n"
          ]
        },
        {
          "output_type": "stream",
          "name": "stderr",
          "text": [
            "Processing frames: 100%|██████████| 9721/9721 [01:57<00:00, 82.87it/s]\n"
          ]
        },
        {
          "output_type": "stream",
          "name": "stdout",
          "text": [
            "Visualizing user summaries of playing_ball\n"
          ]
        },
        {
          "output_type": "stream",
          "name": "stderr",
          "text": [
            "Processing frames: 100%|██████████| 3119/3119 [00:34<00:00, 91.47it/s] \n"
          ]
        },
        {
          "output_type": "stream",
          "name": "stdout",
          "text": [
            "Visualizing user summaries of paluma_jump\n"
          ]
        },
        {
          "output_type": "stream",
          "name": "stderr",
          "text": [
            "Processing frames: 100%|██████████| 2574/2574 [00:47<00:00, 54.08it/s] \n"
          ]
        },
        {
          "output_type": "stream",
          "name": "stdout",
          "text": [
            "Visualizing user summaries of Jumps\n"
          ]
        },
        {
          "output_type": "stream",
          "name": "stderr",
          "text": [
            "Processing frames: 100%|██████████| 950/950 [00:10<00:00, 87.33it/s] \n"
          ]
        },
        {
          "output_type": "stream",
          "name": "stdout",
          "text": [
            "Visualizing user summaries of car_over_camera\n"
          ]
        },
        {
          "output_type": "stream",
          "name": "stderr",
          "text": [
            "Processing frames: 100%|██████████| 4382/4382 [00:55<00:00, 78.97it/s]\n"
          ]
        },
        {
          "output_type": "stream",
          "name": "stdout",
          "text": [
            "Visualizing user summaries of Bus_in_Rock_Tunnel\n"
          ]
        },
        {
          "output_type": "stream",
          "name": "stderr",
          "text": [
            "Processing frames: 100%|█████████▉| 5131/5133 [01:02<00:00, 81.89it/s] \n"
          ]
        },
        {
          "output_type": "stream",
          "name": "stdout",
          "text": [
            "Visualizing user summaries of Car_railcrossing\n"
          ]
        },
        {
          "output_type": "stream",
          "name": "stderr",
          "text": [
            "Processing frames: 100%|██████████| 5075/5075 [03:28<00:00, 24.38it/s]\n"
          ]
        },
        {
          "output_type": "stream",
          "name": "stdout",
          "text": [
            "Visualizing user summaries of Scuba\n"
          ]
        },
        {
          "output_type": "stream",
          "name": "stderr",
          "text": [
            "Processing frames: 100%|██████████| 2221/2221 [01:51<00:00, 19.91it/s]\n"
          ]
        },
        {
          "output_type": "stream",
          "name": "stdout",
          "text": [
            "Visualizing user summaries of Fire Domino\n"
          ]
        },
        {
          "output_type": "stream",
          "name": "stderr",
          "text": [
            "Processing frames: 100%|██████████| 1612/1612 [00:15<00:00, 101.04it/s]\n"
          ]
        },
        {
          "output_type": "stream",
          "name": "stdout",
          "text": [
            "Visualizing user summaries of Valparaiso_Downhill\n"
          ]
        },
        {
          "output_type": "stream",
          "name": "stderr",
          "text": [
            "Processing frames: 100%|██████████| 5178/5178 [03:35<00:00, 23.98it/s] \n"
          ]
        },
        {
          "output_type": "stream",
          "name": "stdout",
          "text": [
            "Visualizing user summaries of Uncut_Evening_Flight\n"
          ]
        },
        {
          "output_type": "stream",
          "name": "stderr",
          "text": [
            "Processing frames: 100%|██████████| 9672/9672 [05:26<00:00, 29.59it/s]\n"
          ]
        },
        {
          "output_type": "stream",
          "name": "stdout",
          "text": [
            "Visualizing user summaries of Playing_on_water_slide\n"
          ]
        },
        {
          "output_type": "stream",
          "name": "stderr",
          "text": [
            "Processing frames: 100%|██████████| 3065/3065 [00:30<00:00, 101.25it/s]\n"
          ]
        },
        {
          "output_type": "stream",
          "name": "stdout",
          "text": [
            "Visualizing user summaries of Paintball\n"
          ]
        },
        {
          "output_type": "stream",
          "name": "stderr",
          "text": [
            "Processing frames: 100%|██████████| 6096/6096 [03:28<00:00, 29.31it/s]\n"
          ]
        },
        {
          "output_type": "stream",
          "name": "stdout",
          "text": [
            "Visualizing user summaries of Base jumping\n"
          ]
        },
        {
          "output_type": "stream",
          "name": "stderr",
          "text": [
            "Processing frames: 100%|██████████| 4729/4729 [01:59<00:00, 39.66it/s] \n"
          ]
        },
        {
          "output_type": "stream",
          "name": "stdout",
          "text": [
            "Visualizing user summaries of St Maarten Landing\n"
          ]
        },
        {
          "output_type": "stream",
          "name": "stderr",
          "text": [
            "Processing frames: 100%|██████████| 1751/1751 [00:44<00:00, 39.25it/s] \n"
          ]
        },
        {
          "output_type": "stream",
          "name": "stdout",
          "text": [
            "Visualizing user summaries of Kids_playing_in_leaves\n"
          ]
        },
        {
          "output_type": "stream",
          "name": "stderr",
          "text": [
            "Processing frames: 100%|██████████| 3187/3187 [02:26<00:00, 21.78it/s]\n"
          ]
        },
        {
          "output_type": "stream",
          "name": "stdout",
          "text": [
            "Visualizing user summaries of Air_Force_One\n"
          ]
        },
        {
          "output_type": "stream",
          "name": "stderr",
          "text": [
            "Processing frames: 100%|██████████| 4494/4494 [05:30<00:00, 13.60it/s]\n"
          ]
        },
        {
          "output_type": "stream",
          "name": "stdout",
          "text": [
            "Visualizing user summaries of Cooking\n"
          ]
        },
        {
          "output_type": "stream",
          "name": "stderr",
          "text": [
            "Processing frames:  99%|█████████▉| 1280/1287 [00:09<00:00, 139.98it/s]\n"
          ]
        },
        {
          "output_type": "stream",
          "name": "stdout",
          "text": [
            "Visualizing user summaries of Eiffel Tower\n"
          ]
        },
        {
          "output_type": "stream",
          "name": "stderr",
          "text": [
            "Processing frames: 100%|██████████| 4971/4971 [05:47<00:00, 14.29it/s]\n"
          ]
        },
        {
          "output_type": "stream",
          "name": "stdout",
          "text": [
            "Visualizing user summaries of Notre_Dame\n"
          ]
        },
        {
          "output_type": "stream",
          "name": "stderr",
          "text": [
            "Processing frames: 100%|██████████| 4608/4608 [06:04<00:00, 12.64it/s]\n"
          ]
        },
        {
          "output_type": "stream",
          "name": "stdout",
          "text": [
            "Visualizing user summaries of Bike Polo\n"
          ]
        },
        {
          "output_type": "stream",
          "name": "stderr",
          "text": [
            "Processing frames: 100%|██████████| 3064/3064 [01:52<00:00, 27.12it/s]\n"
          ]
        },
        {
          "output_type": "stream",
          "name": "stdout",
          "text": [
            "Visualizing user summaries of Bearpark_climbing\n"
          ]
        },
        {
          "output_type": "stream",
          "name": "stderr",
          "text": [
            "Processing frames: 100%|██████████| 3341/3341 [03:21<00:00, 16.56it/s]\n"
          ]
        },
        {
          "output_type": "stream",
          "name": "stdout",
          "text": [
            "Visualizing user summaries of Statue of Liberty\n"
          ]
        },
        {
          "output_type": "stream",
          "name": "stderr",
          "text": [
            "Processing frames: 100%|██████████| 3863/3863 [00:54<00:00, 70.84it/s] \n"
          ]
        },
        {
          "output_type": "stream",
          "name": "stdout",
          "text": [
            "Time taken: 3718.64 seconds\n"
          ]
        }
      ]
    },
    {
      "cell_type": "code",
      "source": [],
      "metadata": {
        "id": "K1S0eTODbsaE"
      },
      "execution_count": null,
      "outputs": []
    }
  ]
}